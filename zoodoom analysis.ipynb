{
 "cells": [
  {
   "cell_type": "markdown",
   "metadata": {},
   "source": [
    "## Análisis Animales Cuenta Zoológico Nacional de la República Dominicana ##\n",
    "\n",
    "Debido al asombroso manejo que ha venido teniendo esta institución en sus cuentas de redes sociales, creemos que es de interés tratar de encontrar cuales animales tienen mayor frecuencia de exposición y cuales generan mayor interés.\n",
    "\n",
    "Usaremos una lista de especies extraída del website del ZooDom.\n",
    "Luego extraeremos una cierta cantidad de publicaciones de su cuenta de Instagram y utilizaremos un algoritmo para extraer las especies presentes en cada publicación, luego medir las interacciones promedio de cada especie y hacer un ranking de frecuencia e interés."
   ]
  },
  {
   "cell_type": "code",
   "execution_count": 3,
   "metadata": {},
   "outputs": [],
   "source": [
    "# Librerias a ser usadas durante el análisis\n",
    "import requests as rs\n",
    "import pandas as pd\n",
    "import regex\n",
    "import re\n",
    "import emoji\n",
    "import matplotlib.pyplot as plt\n",
    "import numpy as np\n",
    "from unidecode import unidecode as uni"
   ]
  },
  {
   "cell_type": "code",
   "execution_count": 4,
   "metadata": {},
   "outputs": [],
   "source": [
    "# Variables iniciales\n",
    "table = []\n",
    "token = \"EAADhbHEHmlABAGwSGI1mpq5XCCwFtg3Not5QYB7EisDw9qw21jzI3UZCRtQ0jkbfE231BFyTPc5XEUeOMHQ9IkhaK4buUjb74Yw8xwAqZArczRZCdZB4ME1G7R1ZAsKZBqAZC2KzgDo1NL0DCUAC886hIZBk1tUQJg8H0bicZC36dDQZDZD\"\n",
    "username = [\"zoodomrd\"]\n",
    "numeroPosts = 500"
   ]
  },
  {
   "cell_type": "markdown",
   "metadata": {},
   "source": [
    "Aquí procedemos a crear las listas de especies. Crearemos una lista de especies por clase de animal, usando cuatro clases de vertebrados terrestres:\n",
    "\n",
    "**Aves, Mamíferos, Reptiles y Anfibios**\n",
    "\n",
    "La razón es porque también queremos descubrir cual clase de animales impacta más. Como hipótesis, creemos que los mamíferos serán esa clase, pues son más cercanos a nosotros y generan mayor nivel de empatía.\n",
    "\n",
    "Para poder minimizar las diferencias, usaremos un metodo para eliminar las tildes o acentos diacríticos. Suponemos que dentro de tantas publicaciones, es posible que haya ligeros errores de escritura con las tildes."
   ]
  },
  {
   "cell_type": "code",
   "execution_count": 5,
   "metadata": {},
   "outputs": [],
   "source": [
    "# Lista de elementos\n",
    "aves = ['Aura', 'Avestruz', 'Buitre', 'Cacatúa', 'Casuario', 'Cigua', 'Cigüeña', 'Cisne', 'Cotorra', 'Cucú', 'Cuervo', 'Cuyaya', 'Emú', 'Faisan', 'Flamenco', 'Gallareta', 'Gallina', 'Grulla', 'Guacamayo', 'Guaraguao', 'Guinea', 'Lechuza', 'Loris', 'Loro', 'Marabú', 'Mutón', 'Paloma', 'Pato', 'Pavo', 'Pelícano','Perdiz', 'Perico', 'Rolón', 'Tucán', 'Tórtola', 'Yaguaza']\n",
    "for a in range(len(aves)):\n",
    "    temp = uni(aves[a])\n",
    "    aves[a] = temp\n",
    "\n",
    "mammal = ['Ankole', 'Antílope', 'Bisonte', 'Buck', 'Bufalo', 'Burro', 'Búfalo', 'Cabra', 'Camello',\n",
    "          'Capibara', 'Cebra', 'Cebú', 'Cebú', 'Chimpacé', 'Chimpancé', 'Cobayo', 'Conejo', 'Dromedario',\n",
    "          'Eland', 'Ferret', 'Gamo', 'Guenón', 'Hiena', 'Hipopótamo', 'Hutía', 'Jaguar', 'León', \n",
    "          'Lémur', 'Mapache', 'Mono', 'Muflón', 'Nilgai', 'Nilghai', 'Ocelote', 'Oveja', 'Poni', 'Pony',\n",
    "          'Pony', 'Rinoceronte', 'Solenodón', 'Taurotragus', 'Tigre', 'Vaca', 'Venado', 'Venado', 'Wallabi',\n",
    "          'Zorrillo']\n",
    "for a in range(len(mammal)):\n",
    "    temp = uni(mammal[a])\n",
    "    mammal[a] = temp\n",
    "\n",
    "reptil = ['Anaconda', 'Boa', 'Cocodrilo', 'Coral', 'Escinco', 'Hicotea', 'Iguana', 'Lagarto', 'Pitón', 'Serpiente', 'Tegu', 'Tortuga']\n",
    "for a in range(len(reptil)):\n",
    "    temp = uni(reptil[a])\n",
    "    reptil[a] = temp\n",
    "\n",
    "anfibio = ['Calcalí', 'Rana']\n",
    "for a in range(len(anfibio)):\n",
    "    temp = uni(anfibio[a])\n",
    "    anfibio[a] = temp\n",
    "\n",
    "animales = aves + mammal  + anfibio + reptil\n",
    "animales.sort()"
   ]
  },
  {
   "cell_type": "markdown",
   "metadata": {},
   "source": [
    "Aquí tenemos el método para extraer la información de la cuenta usando la plataforma **Instagram Graph API**. Crearemos un DataFrame con la información de las publicaciones escogidas. Salvaremos el extracto en un archivo csv para posterior re-uso sin tener que hacer nuevas peticiones al servidor de Instagram."
   ]
  },
  {
   "cell_type": "code",
   "execution_count": null,
   "metadata": {},
   "outputs": [],
   "source": [
    "# Extract posts data\n",
    "\n",
    "data = []\n",
    "\n",
    "for a in range(len(username)):\n",
    "    url = (\"https://graph.facebook.com/v3.2/17841401726234706\"\n",
    "        \"?fields=business_discovery.username(\"+username[a]+\"){media.limit(\"+str(numeroPosts)+\")\"\n",
    "        \"{username,timestamp,media_type,caption,media_url,like_count,comments_count,permalink,id}}\"\n",
    "        \"&access_token=\"+token)\n",
    "    info = rs.get(url)\n",
    "    table = info.json()\n",
    "    data.extend(table[\"business_discovery\"][\"media\"][\"data\"])\n",
    "            \n",
    "profileMedia = pd.DataFrame(data, columns=data[0].keys())\n",
    "profileMedia[\"timestamp\"] = pd.to_datetime(profileMedia[\"timestamp\"])\n",
    "colu = []\n",
    "for key in profileMedia.keys():\n",
    "    colu.append(key)\n",
    "colu[8] = \"post_id\"\n",
    "    \n",
    "profileMedia.columns = colu\n",
    "profileMedia.to_csv(r'.\\profile_media.csv')"
   ]
  },
  {
   "cell_type": "markdown",
   "metadata": {},
   "source": [
    "En este paso, haremos la clasificación de cada publicación, asignándole una especie y una clase a cada uno. Como la cuenta generalmente utiliza un pie de página para informar de que especie se trata, primero veremos si la publicación contiene ese pie de página, lo que nos asegurará que estamos asignando la especie correcta.\n",
    "\n",
    "De no existir este pie de página, escanearemos el texto completo de la publicación para confirmar si alguna especie fue mencionada. Este método es menos preciso, pues en un mismo texto puede mencionarse más de una especie y no podremos identificar cual es la especie central.\n",
    "\n",
    "Luego de asignada cada especie, procederemos a asignar cada clase, y entonces crear en el DataFrame dos columnas nuevas con esa información. Después de eso, extraeremos del DataFrame las publicaciones que no contengan especies definidas. Normalmente son publicaciones que se enfocan en humanos o en acciones institucionales, y que no nos sirven para nuestro análisis."
   ]
  },
  {
   "cell_type": "code",
   "execution_count": 6,
   "metadata": {},
   "outputs": [],
   "source": [
    "profileMedia = pd.read_csv(\"profile_media.csv\")\n",
    "profileMedia[\"engagements\"] = profileMedia[\"like_count\"]+profileMedia[\"comments_count\"]\n",
    "# Classify by animal\n",
    "animal = []\n",
    "tipo = []\n",
    "a = 0\n",
    "captions = profileMedia[\"caption\"][0:500]\n",
    "for row in captions:\n",
    "    a+=1\n",
    "    temp = \"\"\n",
    "    try:\n",
    "        if \"Especie\" in row:\n",
    "            especie = row.split(\"Especie\")[1]\n",
    "    except:\n",
    "        especie = \"\"\n",
    "        for ani in animales:\n",
    "            if ani.lower() in uni(especie.lower()):\n",
    "                temp = ani\n",
    "    else:\n",
    "        for ani in animales:\n",
    "            if ani.lower() in uni(row.lower()):\n",
    "                temp = ani\n",
    "    animal.append(temp)\n",
    "\n",
    "for ani in animal:\n",
    "    if ani in aves:\n",
    "        tipo.append(\"Ave\")\n",
    "    elif ani in mammal:\n",
    "        tipo.append(\"Mamífero\")\n",
    "    elif ani in reptil:\n",
    "        tipo.append(\"Reptil\")\n",
    "    elif ani in anfibio:\n",
    "        tipo.append(\"Anfíbio\")\n",
    "    else:\n",
    "        tipo.append(\"\")\n",
    "        \n",
    "last500 = profileMedia[0:500].copy()\n",
    "last500[\"especie\"] = animal\n",
    "last500[\"clase\"] = tipo\n",
    "\n",
    "animal_list = {}\n",
    "for f in animal:\n",
    "    if f not in animal_list:\n",
    "        animal_list[f] = 1\n",
    "    else:\n",
    "        animal_list[f] += 1\n",
    "        \n",
    "true_last = last500[last500[\"especie\"] != \"\"]\n",
    "\n",
    "likes = true_last[\"like_count\"]\n",
    "coms = true_last[\"comments_count\"]\n",
    "engage = likes + coms"
   ]
  },
  {
   "cell_type": "markdown",
   "metadata": {},
   "source": [
    "Luego usaremos un algoritmo para extraer las palabras de cada publicación, asignarlas a un nuevo DataFrame con la información de cada publicación adjunta, así como un enlace del Post ID. Con esto podremos identificar las palabras más frecuentes y más relevantes.\n",
    "\n",
    "Haremos lo propio con los emojis de cada publicación."
   ]
  },
  {
   "cell_type": "code",
   "execution_count": 17,
   "metadata": {},
   "outputs": [],
   "source": [
    "#extract all words from posts\n",
    "postWords = []\n",
    "wordLikes = []\n",
    "wordCom = []\n",
    "wordpostID = []\n",
    "wordEngage = []\n",
    "\n",
    "\n",
    "for a in range(len(profileMedia)):\n",
    "    try:\n",
    "        sepaTemp = re.findall(\"\\s*([$#%\\w-]+)\",profileMedia[\"caption\"][a])\n",
    "    except:\n",
    "        sepaTemp = \"\"\n",
    "    for b in range(len(sepaTemp)):\n",
    "        postWords.append(sepaTemp[b])\n",
    "        wordLikes.append(profileMedia[\"like_count\"][a])\n",
    "        wordCom.append(profileMedia[\"comments_count\"][a])\n",
    "        wordEngage.append(profileMedia[\"like_count\"][a]+profileMedia[\"comments_count\"][a])\n",
    "        wordpostID.append(profileMedia[\"post_id\"][a])\n",
    "\n",
    "\n",
    "postWordList = pd.DataFrame([postWords, wordLikes, wordCom, wordEngage, wordpostID], [\"palabras\", \"likes\", \"comments\", \"engagements\", \"post_id\"])\n",
    "postWordList = pd.DataFrame.transpose(postWordList)\n",
    "\n",
    "\n",
    "# Fucntion to extract emojis\n",
    "def split_count(text):\n",
    "\n",
    "    emoji_list = []\n",
    "#     flags = regex.findall(u'[\\U0001F1E6-\\U0001F1FF]', text) \n",
    "    data = regex.findall(r'\\X', text)\n",
    "    for word in data:\n",
    "        if any(char in emoji.UNICODE_EMOJI for char in word):\n",
    "            emoji_list.append(word)\n",
    "\n",
    "    return emoji_list\n",
    "\n",
    "# Extract emojis from posts\n",
    "postEmoji = []\n",
    "emojiUser = []\n",
    "emojiEngage = []\n",
    "emojipostID = []\n",
    "\n",
    "for a in range(len(profileMedia)):\n",
    "    try:\n",
    "        temp = split_count(profileMedia[\"caption\"][a])\n",
    "        for b in temp:\n",
    "            postEmoji.append(b)\n",
    "            emojiEngage.append(profileMedia[\"like_count\"][a]+profileMedia[\"comments_count\"][a])\n",
    "            emojiUser.append(profileMedia[\"username\"][a])\n",
    "            emojipostID.append(profileMedia[\"post_id\"][a])\n",
    "    except:\n",
    "        pass\n",
    "\n",
    "postEmojiList = pd.DataFrame([emojiUser, postEmoji, emojiEngage, emojipostID], [\"username\", \"emoji\", \"engagements\", \"post_id\"])\n",
    "postEmojiList = pd.DataFrame.transpose(postEmojiList)"
   ]
  },
  {
   "cell_type": "code",
   "execution_count": 7,
   "metadata": {},
   "outputs": [
    {
     "data": {
      "image/png": "[encoded data removed]",
      "text/plain": [
       "<Figure size 936x720 with 1 Axes>"
      ]
     },
     "metadata": {
      "needs_background": "light"
     },
     "output_type": "display_data"
    }
   ],
   "source": [
    "fig, ax = plt.subplots()\n",
    "fig.set_size_inches(13,10)\n",
    "\n",
    "ax.set_xlabel(\"Likes\")\n",
    "ax.set_ylabel(\"Comments\")\n",
    "ax.set_title(\"Likes vs Comments\")\n",
    "\n",
    "ax.scatter(likes, coms, s=10, alpha=0.5, c=coms/likes)\n",
    "plt.ylim(-10,500)\n",
    "plt.xlim(-100,5000)\n",
    "plt.show()\n"
   ]
  },
  {
   "cell_type": "markdown",
   "metadata": {},
   "source": [
    "Procedemos a encontrar las 20 especies más frecuentes."
   ]
  },
  {
   "cell_type": "code",
   "execution_count": 8,
   "metadata": {},
   "outputs": [
    {
     "data": {
      "text/plain": [
       "Leon           8.59\n",
       "Rana           7.03\n",
       "Flamenco       5.73\n",
       "Tigre          5.47\n",
       "Cocodrilo      4.95\n",
       "Jaguar         4.95\n",
       "Mono           3.91\n",
       "Rinoceronte    3.91\n",
       "Hipopotamo     3.91\n",
       "Lemur          3.91\n",
       "Vaca           3.65\n",
       "Pato           2.86\n",
       "Lechuza        2.34\n",
       "Emu            2.34\n",
       "Dromedario     2.08\n",
       "Tortuga        2.08\n",
       "Bisonte        1.82\n",
       "Cebra          1.82\n",
       "Cacatua        1.82\n",
       "Avestruz       1.82\n",
       "Name: especie, dtype: float64"
      ]
     },
     "execution_count": 8,
     "metadata": {},
     "output_type": "execute_result"
    }
   ],
   "source": [
    "round(true_last[\"especie\"].value_counts(normalize=True)*100, 2)[0:20]"
   ]
  },
  {
   "cell_type": "code",
   "execution_count": 9,
   "metadata": {},
   "outputs": [],
   "source": [
    "species_amount = true_last[\"especie\"].value_counts()[0:20]"
   ]
  },
  {
   "cell_type": "code",
   "execution_count": 10,
   "metadata": {},
   "outputs": [],
   "source": [
    "top_20_species = (true_last[\"especie\"].value_counts(normalize=True)*100)[0:20].index"
   ]
  },
  {
   "cell_type": "code",
   "execution_count": 11,
   "metadata": {},
   "outputs": [
    {
     "data": {
      "text/plain": [
       "Index(['Leon', 'Rana', 'Flamenco', 'Tigre', 'Cocodrilo', 'Jaguar', 'Mono',\n",
       "       'Rinoceronte', 'Hipopotamo', 'Lemur', 'Vaca', 'Pato', 'Lechuza', 'Emu',\n",
       "       'Dromedario', 'Tortuga', 'Bisonte', 'Cebra', 'Cacatua', 'Avestruz'],\n",
       "      dtype='object')"
      ]
     },
     "execution_count": 11,
     "metadata": {},
     "output_type": "execute_result"
    }
   ],
   "source": [
    "top_20_species"
   ]
  },
  {
   "cell_type": "code",
   "execution_count": 13,
   "metadata": {},
   "outputs": [],
   "source": [
    "top_species_engage = []\n",
    "for a in top_20_species:\n",
    "    mean = true_last[true_last[\"especie\"] == a][\"engagements\"].mean()\n",
    "    top_species_engage.append(round(mean,2))\n",
    "    \n",
    "top_species_coms = []\n",
    "for a in top_20_species:\n",
    "    mean = true_last[true_last[\"especie\"] == a][\"comments_count\"].mean()\n",
    "    top_species_coms.append(round(mean,2))\n",
    "    \n",
    "top_species_likes = []\n",
    "for a in top_20_species:\n",
    "    mean = true_last[true_last[\"especie\"] == a][\"like_count\"].mean()\n",
    "    top_species_likes.append(round(mean,2))\n",
    "\n",
    "top_species_weight = []\n",
    "for a in top_20_species:\n",
    "    impact = true_last[true_last[\"especie\"] == a][\"engagements\"].mean()+pow(species_amount[a],2)\n",
    "    top_species_weight.append(round(impact,2))\n",
    " \n",
    "\n",
    "    \n",
    "tops = pd.DataFrame([top_20_species, species_amount, top_species_likes, top_species_coms, top_species_engage, top_species_weight], [\"especies\", \"posts\", \"avg_likes\", \"avg_comments\", \"avg_engagements\", \"avg_weight\"])\n",
    "tops = pd.DataFrame.transpose(tops)\n"
   ]
  },
  {
   "cell_type": "code",
   "execution_count": 14,
   "metadata": {},
   "outputs": [
    {
     "data": {
      "text/html": [
       "<div>\n",
       "<style scoped>\n",
       "    .dataframe tbody tr th:only-of-type {\n",
       "        vertical-align: middle;\n",
       "    }\n",
       "\n",
       "    .dataframe tbody tr th {\n",
       "        vertical-align: top;\n",
       "    }\n",
       "\n",
       "    .dataframe thead th {\n",
       "        text-align: right;\n",
       "    }\n",
       "</style>\n",
       "<table border=\"1\" class=\"dataframe\">\n",
       "  <thead>\n",
       "    <tr style=\"text-align: right;\">\n",
       "      <th></th>\n",
       "      <th>especies</th>\n",
       "      <th>posts</th>\n",
       "      <th>avg_likes</th>\n",
       "      <th>avg_comments</th>\n",
       "      <th>avg_engagements</th>\n",
       "      <th>avg_weight</th>\n",
       "    </tr>\n",
       "  </thead>\n",
       "  <tbody>\n",
       "    <tr>\n",
       "      <th>0</th>\n",
       "      <td>Leon</td>\n",
       "      <td>33</td>\n",
       "      <td>1983.91</td>\n",
       "      <td>211.55</td>\n",
       "      <td>2195.45</td>\n",
       "      <td>3284.45</td>\n",
       "    </tr>\n",
       "    <tr>\n",
       "      <th>1</th>\n",
       "      <td>Rana</td>\n",
       "      <td>27</td>\n",
       "      <td>790.44</td>\n",
       "      <td>58.26</td>\n",
       "      <td>848.7</td>\n",
       "      <td>1577.7</td>\n",
       "    </tr>\n",
       "    <tr>\n",
       "      <th>2</th>\n",
       "      <td>Flamenco</td>\n",
       "      <td>22</td>\n",
       "      <td>677.55</td>\n",
       "      <td>34.95</td>\n",
       "      <td>712.5</td>\n",
       "      <td>1196.5</td>\n",
       "    </tr>\n",
       "    <tr>\n",
       "      <th>3</th>\n",
       "      <td>Tigre</td>\n",
       "      <td>21</td>\n",
       "      <td>1464.38</td>\n",
       "      <td>147.48</td>\n",
       "      <td>1611.86</td>\n",
       "      <td>2052.86</td>\n",
       "    </tr>\n",
       "    <tr>\n",
       "      <th>4</th>\n",
       "      <td>Cocodrilo</td>\n",
       "      <td>19</td>\n",
       "      <td>852.84</td>\n",
       "      <td>71.26</td>\n",
       "      <td>924.11</td>\n",
       "      <td>1285.11</td>\n",
       "    </tr>\n",
       "    <tr>\n",
       "      <th>5</th>\n",
       "      <td>Jaguar</td>\n",
       "      <td>19</td>\n",
       "      <td>1201.63</td>\n",
       "      <td>79.37</td>\n",
       "      <td>1281</td>\n",
       "      <td>1642</td>\n",
       "    </tr>\n",
       "    <tr>\n",
       "      <th>6</th>\n",
       "      <td>Mono</td>\n",
       "      <td>15</td>\n",
       "      <td>852.07</td>\n",
       "      <td>62.07</td>\n",
       "      <td>914.13</td>\n",
       "      <td>1139.13</td>\n",
       "    </tr>\n",
       "    <tr>\n",
       "      <th>7</th>\n",
       "      <td>Rinoceronte</td>\n",
       "      <td>15</td>\n",
       "      <td>768.6</td>\n",
       "      <td>42.6</td>\n",
       "      <td>811.2</td>\n",
       "      <td>1036.2</td>\n",
       "    </tr>\n",
       "    <tr>\n",
       "      <th>8</th>\n",
       "      <td>Hipopotamo</td>\n",
       "      <td>15</td>\n",
       "      <td>1181.33</td>\n",
       "      <td>89</td>\n",
       "      <td>1270.33</td>\n",
       "      <td>1495.33</td>\n",
       "    </tr>\n",
       "    <tr>\n",
       "      <th>9</th>\n",
       "      <td>Lemur</td>\n",
       "      <td>15</td>\n",
       "      <td>695.27</td>\n",
       "      <td>45.47</td>\n",
       "      <td>740.73</td>\n",
       "      <td>965.73</td>\n",
       "    </tr>\n",
       "    <tr>\n",
       "      <th>10</th>\n",
       "      <td>Vaca</td>\n",
       "      <td>14</td>\n",
       "      <td>641.21</td>\n",
       "      <td>36.14</td>\n",
       "      <td>677.36</td>\n",
       "      <td>873.36</td>\n",
       "    </tr>\n",
       "    <tr>\n",
       "      <th>11</th>\n",
       "      <td>Pato</td>\n",
       "      <td>11</td>\n",
       "      <td>813.09</td>\n",
       "      <td>52.45</td>\n",
       "      <td>865.55</td>\n",
       "      <td>986.55</td>\n",
       "    </tr>\n",
       "    <tr>\n",
       "      <th>12</th>\n",
       "      <td>Lechuza</td>\n",
       "      <td>9</td>\n",
       "      <td>538.11</td>\n",
       "      <td>25.78</td>\n",
       "      <td>563.89</td>\n",
       "      <td>644.89</td>\n",
       "    </tr>\n",
       "    <tr>\n",
       "      <th>13</th>\n",
       "      <td>Emu</td>\n",
       "      <td>9</td>\n",
       "      <td>567.44</td>\n",
       "      <td>41.67</td>\n",
       "      <td>609.11</td>\n",
       "      <td>690.11</td>\n",
       "    </tr>\n",
       "    <tr>\n",
       "      <th>14</th>\n",
       "      <td>Dromedario</td>\n",
       "      <td>8</td>\n",
       "      <td>661.25</td>\n",
       "      <td>44.75</td>\n",
       "      <td>706</td>\n",
       "      <td>770</td>\n",
       "    </tr>\n",
       "    <tr>\n",
       "      <th>15</th>\n",
       "      <td>Tortuga</td>\n",
       "      <td>8</td>\n",
       "      <td>595.75</td>\n",
       "      <td>30.25</td>\n",
       "      <td>626</td>\n",
       "      <td>690</td>\n",
       "    </tr>\n",
       "    <tr>\n",
       "      <th>16</th>\n",
       "      <td>Bisonte</td>\n",
       "      <td>7</td>\n",
       "      <td>427.29</td>\n",
       "      <td>27.29</td>\n",
       "      <td>454.57</td>\n",
       "      <td>503.57</td>\n",
       "    </tr>\n",
       "    <tr>\n",
       "      <th>17</th>\n",
       "      <td>Cebra</td>\n",
       "      <td>7</td>\n",
       "      <td>863.57</td>\n",
       "      <td>55</td>\n",
       "      <td>918.57</td>\n",
       "      <td>967.57</td>\n",
       "    </tr>\n",
       "    <tr>\n",
       "      <th>18</th>\n",
       "      <td>Cacatua</td>\n",
       "      <td>7</td>\n",
       "      <td>629.71</td>\n",
       "      <td>26.71</td>\n",
       "      <td>656.43</td>\n",
       "      <td>705.43</td>\n",
       "    </tr>\n",
       "    <tr>\n",
       "      <th>19</th>\n",
       "      <td>Avestruz</td>\n",
       "      <td>7</td>\n",
       "      <td>867.71</td>\n",
       "      <td>93.43</td>\n",
       "      <td>961.14</td>\n",
       "      <td>1010.14</td>\n",
       "    </tr>\n",
       "  </tbody>\n",
       "</table>\n",
       "</div>"
      ],
      "text/plain": [
       "       especies posts avg_likes avg_comments avg_engagements avg_weight\n",
       "0          Leon    33   1983.91       211.55         2195.45    3284.45\n",
       "1          Rana    27    790.44        58.26           848.7     1577.7\n",
       "2      Flamenco    22    677.55        34.95           712.5     1196.5\n",
       "3         Tigre    21   1464.38       147.48         1611.86    2052.86\n",
       "4     Cocodrilo    19    852.84        71.26          924.11    1285.11\n",
       "5        Jaguar    19   1201.63        79.37            1281       1642\n",
       "6          Mono    15    852.07        62.07          914.13    1139.13\n",
       "7   Rinoceronte    15     768.6         42.6           811.2     1036.2\n",
       "8    Hipopotamo    15   1181.33           89         1270.33    1495.33\n",
       "9         Lemur    15    695.27        45.47          740.73     965.73\n",
       "10         Vaca    14    641.21        36.14          677.36     873.36\n",
       "11         Pato    11    813.09        52.45          865.55     986.55\n",
       "12      Lechuza     9    538.11        25.78          563.89     644.89\n",
       "13          Emu     9    567.44        41.67          609.11     690.11\n",
       "14   Dromedario     8    661.25        44.75             706        770\n",
       "15      Tortuga     8    595.75        30.25             626        690\n",
       "16      Bisonte     7    427.29        27.29          454.57     503.57\n",
       "17        Cebra     7    863.57           55          918.57     967.57\n",
       "18      Cacatua     7    629.71        26.71          656.43     705.43\n",
       "19     Avestruz     7    867.71        93.43          961.14    1010.14"
      ]
     },
     "execution_count": 14,
     "metadata": {},
     "output_type": "execute_result"
    }
   ],
   "source": [
    "tops"
   ]
  },
  {
   "cell_type": "markdown",
   "metadata": {},
   "source": [
    "Let's graph the top 20 species by Avg. Weight"
   ]
  },
  {
   "cell_type": "code",
   "execution_count": 47,
   "metadata": {},
   "outputs": [
    {
     "data": {
      "text/plain": [
       "<matplotlib.axes._subplots.AxesSubplot at 0x28fec4984a8>"
      ]
     },
     "execution_count": 47,
     "metadata": {},
     "output_type": "execute_result"
    },
    {
     "data": {
      "image/png": "[encoded data removed]",
      "text/plain": [
       "<Figure size 432x288 with 1 Axes>"
      ]
     },
     "metadata": {
      "needs_background": "light"
     },
     "output_type": "display_data"
    }
   ],
   "source": [
    "tops.sort_values('avg_weight', ascending=False).plot.bar(x=\"especies\", y=\"avg_weight\", rot=90) "
   ]
  },
  {
   "cell_type": "markdown",
   "metadata": {},
   "source": [
    "Aquí salvamos los distintos DataFrames en un archivo de Excel."
   ]
  },
  {
   "cell_type": "code",
   "execution_count": 18,
   "metadata": {},
   "outputs": [],
   "source": [
    "writer = pd.ExcelWriter(username[0] + \" IG.xlsx\", engine = 'xlsxwriter',  options={'remove_timezone': True})\n",
    "profileMedia.to_excel(writer, sheet_name=\"IG competition media\", index=None, header=True)\n",
    "postWordList.to_excel(writer, sheet_name=\"IG competition words\", index=None, header=True)\n",
    "postEmojiList.to_excel(writer, sheet_name=\"IG competition emoji\", index=None, header=True)\n",
    "true_last.to_excel(writer, sheet_name=\"Last 500 Processed\", index=None, header=True)\n",
    "tops.to_excel(writer, sheet_name=\"Top 20 Especies\", index=None, header=True)\n",
    "\n",
    "\n",
    "\n",
    "writer.save()\n",
    "writer.close()"
   ]
  },
  {
   "cell_type": "markdown",
   "metadata": {},
   "source": [
    "Final visualization via Tableau"
   ]
  },
  {
   "cell_type": "markdown",
   "metadata": {},
   "source": [
    "![Especies más relevantes](images/Especies.png)"
   ]
  }
 ],
 "metadata": {
  "kernelspec": {
   "display_name": "Python 3",
   "language": "python",
   "name": "python3"
  },
  "language_info": {
   "codemirror_mode": {
    "name": "ipython",
    "version": 3
   },
   "file_extension": ".py",
   "mimetype": "text/x-python",
   "name": "python",
   "nbconvert_exporter": "python",
   "pygments_lexer": "ipython3",
   "version": "3.7.3"
  }
 },
 "nbformat": 4,
 "nbformat_minor": 2
}
